{
 "cells": [
  {
   "cell_type": "markdown",
   "metadata": {},
   "source": [
    "# Simple Example\n",
    "\n",
    "Let's try some basic functionality of boost-histogram:"
   ]
  },
  {
   "cell_type": "code",
   "execution_count": 1,
   "metadata": {},
   "outputs": [],
   "source": [
    "import numpy as np\n",
    "\n",
    "import boost_histogram as bh"
   ]
  },
  {
   "cell_type": "code",
   "execution_count": 2,
   "metadata": {},
   "outputs": [],
   "source": [
    "vals = np.random.normal(size=(2, 1_000_000))"
   ]
  },
  {
   "cell_type": "code",
   "execution_count": 3,
   "metadata": {},
   "outputs": [
    {
     "data": {
      "text/plain": [
       "Histogram(\n",
       "  Regular(10, 0, 10, metadata='x', transform=sqrt),\n",
       "  Regular(10, 0, 1, circular=True, metadata='y'),\n",
       "  storage=Int64())"
      ]
     },
     "execution_count": 3,
     "metadata": {},
     "output_type": "execute_result"
    }
   ],
   "source": [
    "hist = bh.Histogram(\n",
    "    bh.axis.Regular(10, 0, 10, metadata=\"x\", transform=bh.axis.transform.sqrt),\n",
    "    bh.axis.Regular(10, 0, 1, circular=True, metadata=\"y\"),\n",
    "    storage=bh.storage.Int64(),\n",
    ")\n",
    "hist"
   ]
  },
  {
   "cell_type": "markdown",
   "metadata": {},
   "source": [
    "This fills the histogram"
   ]
  },
  {
   "cell_type": "code",
   "execution_count": 4,
   "metadata": {},
   "outputs": [
    {
     "data": {
      "text/plain": [
       "Histogram(\n",
       "  Regular(10, 0, 10, metadata='x', transform=sqrt),\n",
       "  Regular(10, 0, 1, circular=True, metadata='y'),\n",
       "  storage=Int64()) # Sum: 499682.0 (1000000.0 with flow)"
      ]
     },
     "execution_count": 4,
     "metadata": {},
     "output_type": "execute_result"
    }
   ],
   "source": [
    "hist.fill(*vals)"
   ]
  },
  {
   "cell_type": "markdown",
   "metadata": {},
   "source": [
    "Let's just take a quick look at the bin contents:"
   ]
  },
  {
   "cell_type": "code",
   "execution_count": 5,
   "metadata": {},
   "outputs": [
    {
     "name": "stdout",
     "output_type": "stream",
     "text": [
      "[[ 3955  3992  3972  3948  3930  3987  4073  3982  3878  4073]\n",
      " [11519 11675 11560 11528 11612 11575 11476 11643 11573 11603]\n",
      " [16197 16087 16261 16043 15775 15912 16067 16010 15973 15998]\n",
      " [12843 12956 12855 12912 12870 12940 12962 12891 12752 13073]\n",
      " [ 4807  4952  4844  4859  4869  4788  4657  4931  4775  4874]\n",
      " [  636   618   598   608   633   644   603   635   611   645]\n",
      " [   14    18    20    13    12    21    10    18    15    22]\n",
      " [    0     0     0     0     1     0     0     0     0     0]\n",
      " [    0     0     0     0     0     0     0     0     0     0]\n",
      " [    0     0     0     0     0     0     0     0     0     0]]\n"
     ]
    }
   ],
   "source": [
    "print(hist.view())"
   ]
  }
 ],
 "metadata": {
  "kernelspec": {
   "display_name": "boost-hist",
   "language": "python",
   "name": "boost-hist"
  },
  "language_info": {
   "codemirror_mode": {
    "name": "ipython",
    "version": 3
   },
   "file_extension": ".py",
   "mimetype": "text/x-python",
   "name": "python",
   "nbconvert_exporter": "python",
   "pygments_lexer": "ipython3",
   "version": "3.7.6"
  }
 },
 "nbformat": 4,
 "nbformat_minor": 4
}
