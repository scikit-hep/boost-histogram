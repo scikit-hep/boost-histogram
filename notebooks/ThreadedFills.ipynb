{
 "cells": [
  {
   "cell_type": "markdown",
   "metadata": {},
   "source": [
    "# Threaded Fills"
   ]
  },
  {
   "cell_type": "code",
   "execution_count": 1,
   "metadata": {},
   "outputs": [],
   "source": [
    "import numpy as np\n",
    "import boost_histogram as bh\n",
    "from concurrent.futures import ThreadPoolExecutor\n",
    "from functools import reduce\n",
    "from operator import add\n",
    "from numpy.testing import assert_array_equal"
   ]
  },
  {
   "cell_type": "markdown",
   "metadata": {},
   "source": [
    "This notebook explores parallel filling by hand (not using the `threads=` argument)."
   ]
  },
  {
   "cell_type": "code",
   "execution_count": 2,
   "metadata": {},
   "outputs": [],
   "source": [
    "hist_linear = bh.Histogram(bh.axis.Regular(100, 0, 1))\n",
    "hist_atomic = bh.Histogram(bh.axis.Regular(100, 0, 1), storage=bh.storage.AtomicInt64())\n",
    "\n",
    "vals = np.random.rand(10_000_000)\n",
    "hist_answer = hist_linear.fill(vals).copy()"
   ]
  },
  {
   "cell_type": "markdown",
   "metadata": {},
   "source": [
    "This is a traditional fill."
   ]
  },
  {
   "cell_type": "code",
   "execution_count": 3,
   "metadata": {},
   "outputs": [
    {
     "name": "stdout",
     "output_type": "stream",
     "text": [
      "25.5 ms ± 774 µs per loop (mean ± std. dev. of 7 runs, 10 loops each)\n"
     ]
    }
   ],
   "source": [
    "%%timeit\n",
    "hist_linear.reset()\n",
    "hist_linear.fill(vals)\n",
    "assert_array_equal(hist_answer, hist_linear)"
   ]
  },
  {
   "cell_type": "markdown",
   "metadata": {},
   "source": [
    "This is a single threaded atomic fill."
   ]
  },
  {
   "cell_type": "code",
   "execution_count": 4,
   "metadata": {},
   "outputs": [
    {
     "name": "stdout",
     "output_type": "stream",
     "text": [
      "59.9 ms ± 2.19 ms per loop (mean ± std. dev. of 7 runs, 10 loops each)\n"
     ]
    }
   ],
   "source": [
    "%%timeit\n",
    "hist_atomic.reset()\n",
    "hist_atomic.fill(vals)\n",
    "assert_array_equal(hist_answer, hist_atomic)"
   ]
  },
  {
   "cell_type": "markdown",
   "metadata": {},
   "source": [
    "This is a threaded fill (storage not threadsafe, so will get the wrong result; just for comparison)"
   ]
  },
  {
   "cell_type": "markdown",
   "metadata": {},
   "source": [
    "This is a threaded fill, this time with atomics. It may not be faster, but is useful in situations where you are filling from multiple places in your code."
   ]
  },
  {
   "cell_type": "code",
   "execution_count": 5,
   "metadata": {},
   "outputs": [
    {
     "name": "stdout",
     "output_type": "stream",
     "text": [
      "61.2 ms ± 1.57 ms per loop (mean ± std. dev. of 7 runs, 10 loops each)\n"
     ]
    }
   ],
   "source": [
    "%%timeit\n",
    "hist_atomic.reset()\n",
    "threads = 4\n",
    "with ThreadPoolExecutor(threads) as pool:\n",
    "    for chunk in np.array_split(vals, threads):\n",
    "        pool.submit(hist_atomic.fill, chunk)\n",
    "assert_array_equal(hist_answer, hist_atomic)"
   ]
  },
  {
   "cell_type": "markdown",
   "metadata": {},
   "source": [
    "This makes four separate histograms, then fills them and adds at the end."
   ]
  },
  {
   "cell_type": "code",
   "execution_count": 6,
   "metadata": {},
   "outputs": [],
   "source": [
    "def fun(x):\n",
    "    hist = bh.Histogram(bh.axis.Regular(100, 0, 1))\n",
    "    return hist.fill(x)"
   ]
  },
  {
   "cell_type": "code",
   "execution_count": 7,
   "metadata": {},
   "outputs": [
    {
     "name": "stdout",
     "output_type": "stream",
     "text": [
      "8.12 ms ± 90 µs per loop (mean ± std. dev. of 7 runs, 100 loops each)\n"
     ]
    }
   ],
   "source": [
    "%%timeit\n",
    "threads = 4\n",
    "with ThreadPoolExecutor(threads) as pool:\n",
    "    results = pool.map(fun, np.array_split(vals, threads))\n",
    "hist_quad = reduce(add, results)\n",
    "assert_array_equal(hist_answer, hist_quad)"
   ]
  },
  {
   "cell_type": "markdown",
   "metadata": {},
   "source": [
    "The expense of creating the histogram and summing them must be significanly less than the cost of filling for this to be faster."
   ]
  }
 ],
 "metadata": {
  "kernelspec": {
   "display_name": "boost-hist",
   "language": "python",
   "name": "boost-hist"
  },
  "language_info": {
   "codemirror_mode": {
    "name": "ipython",
    "version": 3
   },
   "file_extension": ".py",
   "mimetype": "text/x-python",
   "name": "python",
   "nbconvert_exporter": "python",
   "pygments_lexer": "ipython3",
   "version": "3.7.6"
  }
 },
 "nbformat": 4,
 "nbformat_minor": 4
}
